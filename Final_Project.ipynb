{
  "cells": [
    {
      "cell_type": "code",
      "execution_count": null,
      "metadata": {
        "id": "ORuuEcSMCZxz"
      },
      "outputs": [],
      "source": [
        "!pip install cohere"
      ]
    },
    {
      "cell_type": "code",
      "execution_count": null,
      "metadata": {
        "id": "U_oGsVPQChRJ"
      },
      "outputs": [],
      "source": [
        "import cohere\n",
        "cohere_api_key = \"\"\n",
        "co = cohere.Client(cohere_api_key)\n",
        "def analyze_decision_alternatives(question):\n",
        "    \"\"\"Extracts alternatives from a decision problem using Cohere.\"\"\"\n",
        "    definition = \"\"\"\n",
        "    An alternative is an available course of action that the decision maker believes would lead to a different future, and is actually available and under the decision maker's control.\n",
        "\n",
        "    Key points about alternatives:\n",
        "    1. Alternatives arise from the frame the decision maker chooses. The chosen frame determines the alternatives that will be considered.\n",
        "    2. There need to be at least two distinct alternatives representing substantially different choices for there to be a real decision. If there is only one alternative, there is no choice to make.\n",
        "    3. Alternatives must represent choices that are actually available to the decision maker and under their control. For example, accepting a job offer is only an alternative if you have actually received the job offer.\n",
        "    4. While more alternatives can sometimes lead to a better choice, finding alternatives takes time and effort. There is a trade-off between considering more options versus efficiently making a choice.\n",
        "    5. Alternatives are one of the three essential elements of any decision, along with information and preferences. A decision cannot be made without clear alternatives.\n",
        "    \"\"\"\n",
        "    prompt = f\"\"\"\n",
        "    The user is trying to make the following decision: {question}.\n",
        "\n",
        "    Based on the following definition of alternatives:\n",
        "    {definition}\n",
        "\n",
        "    What distinct, actionable alternatives should the decision maker consider that are under their control and represent substantially different choices? Provide a list of alternatives along with a brief explanation of each.\n",
        "    \"\"\"\n",
        "    response = co.generate(\n",
        "        model='command-nightly',\n",
        "        prompt=prompt,\n",
        "        max_tokens=1000,\n",
        "        temperature=0.7,\n",
        "        k=0,\n",
        "        p=1,\n",
        "        frequency_penalty=0,\n",
        "        presence_penalty=0,\n",
        "        stop_sequences=[\"--\"],\n",
        "        return_likelihoods='NONE'\n",
        "    )\n",
        "    return response.generations[0].text.strip()\n",
        "\n",
        "def process_questions_file(filename):\n",
        "    \"\"\"Reads a questions file, processes questions, and saves answers.\"\"\"\n",
        "    with open(filename, 'r') as file, open(\"Result.txt\", \"a\") as output_file:\n",
        "        questions = []\n",
        "        for line in file:\n",
        "            if line.startswith(\"Question:\"):\n",
        "                question = line[len(\"Question:\"):].strip()\n",
        "                if question:\n",
        "                    questions.append(question)\n",
        "\n",
        "        for question in questions:\n",
        "            print(\"Question:\", question)\n",
        "            alternatives = analyze_decision_alternatives(question)\n",
        "            print(\"Alternatives:\")\n",
        "            print(alternatives)\n",
        "            print()\n",
        "            results_cohere = f\"Question: {question}\\nAlternatives:\\n{alternatives}\\n\\n\"\n",
        "            output_file.write(results_cohere)\n",
        "\n",
        "process_questions_file(\"Technology vs decision-based questions.txt\")"
      ]
    },
    {
      "cell_type": "code",
      "execution_count": null,
      "metadata": {
        "id": "6Lg5iYpJCqig"
      },
      "outputs": [],
      "source": [
        "process_questions_file(\"Technology vs decision-based questions2.txt\")"
      ]
    },
    {
      "cell_type": "code",
      "execution_count": null,
      "metadata": {
        "id": "EgJETpzKCvB6"
      },
      "outputs": [],
      "source": [
        "process_questions_file(\"Technology vs decision-based questions3.txt\")"
      ]
    },
    {
      "cell_type": "code",
      "execution_count": null,
      "metadata": {
        "id": "lLA5KmrcCv6_"
      },
      "outputs": [],
      "source": [
        "process_questions_file(\"Technology vs decision-based questions4.txt\")"
      ]
    },
    {
      "cell_type": "code",
      "execution_count": null,
      "metadata": {
        "id": "OUXkLYaNCyeW"
      },
      "outputs": [],
      "source": [
        "process_questions_file(\"Technology vs decision-based questions5.txt\")"
      ]
    },
    {
      "cell_type": "code",
      "execution_count": null,
      "metadata": {
        "id": "lcBOHZG1Cya0"
      },
      "outputs": [],
      "source": [
        "process_questions_file(\"Technology vs decision-based questions6.txt\")"
      ]
    },
    {
      "cell_type": "code",
      "execution_count": null,
      "metadata": {
        "id": "8hidFDCuCyYy"
      },
      "outputs": [],
      "source": [
        "process_questions_file(\"Technology vs decision-based questions7.txt\")"
      ]
    },
    {
      "cell_type": "code",
      "execution_count": null,
      "metadata": {
        "id": "71FmenpxCyXM"
      },
      "outputs": [],
      "source": [
        "process_questions_file(\"Technology vs decision-based questions8.txt\")"
      ]
    },
    {
      "cell_type": "code",
      "execution_count": null,
      "metadata": {
        "id": "3x5qUuOwCyU-"
      },
      "outputs": [],
      "source": [
        "process_questions_file(\"Technology vs decision-based questions9.txt\")"
      ]
    },
    {
      "cell_type": "code",
      "execution_count": null,
      "metadata": {
        "id": "Ba5TPMLTCyS5"
      },
      "outputs": [],
      "source": [
        "process_questions_file(\"Technology vs decision-based questions10.txt\")"
      ]
    },
    {
      "cell_type": "markdown",
      "metadata": {
        "id": "azey5mJvDDeu"
      },
      "source": [
        "**Cohere Output \"technology should I\"**"
      ]
    },
    {
      "cell_type": "code",
      "execution_count": null,
      "metadata": {
        "id": "Ak2lFnRCCyP0"
      },
      "outputs": [],
      "source": [
        "process_questions_file(\"Technology should I decision-based questions.txt\")"
      ]
    },
    {
      "cell_type": "code",
      "execution_count": null,
      "metadata": {
        "id": "oZgztC3-CyNp"
      },
      "outputs": [],
      "source": [
        "process_questions_file(\"Technology should I decision-based questions2.txt\")"
      ]
    },
    {
      "cell_type": "code",
      "execution_count": null,
      "metadata": {
        "id": "k3dmMSGYCyLE"
      },
      "outputs": [],
      "source": [
        "process_questions_file(\"Technology should I decision-based questions3.txt\")"
      ]
    },
    {
      "cell_type": "code",
      "execution_count": null,
      "metadata": {
        "id": "Ltl7QyKxDesd"
      },
      "outputs": [],
      "source": [
        "process_questions_file(\"Technology should I decision-based questions4.txt\")"
      ]
    },
    {
      "cell_type": "code",
      "execution_count": null,
      "metadata": {
        "id": "2ATQNkYpDiUU"
      },
      "outputs": [],
      "source": [
        "process_questions_file(\"Technology should I decision-based questions5.txt\")"
      ]
    },
    {
      "cell_type": "code",
      "execution_count": null,
      "metadata": {
        "id": "_MiCalpQDlfe"
      },
      "outputs": [],
      "source": [
        "process_questions_file(\"Technology should I decision-based questions6.txt\")"
      ]
    },
    {
      "cell_type": "code",
      "execution_count": null,
      "metadata": {
        "id": "GfUljVAZDlds"
      },
      "outputs": [],
      "source": [
        "process_questions_file(\"Technology should I decision-based questions7.txt\")"
      ]
    },
    {
      "cell_type": "code",
      "execution_count": null,
      "metadata": {
        "id": "RcmLBFF2Dlbf"
      },
      "outputs": [],
      "source": [
        "process_questions_file(\"Technology should I decision-based questions8.txt\")"
      ]
    },
    {
      "cell_type": "code",
      "execution_count": null,
      "metadata": {
        "id": "0toCNB4iDlZM"
      },
      "outputs": [],
      "source": [
        "process_questions_file(\"Technology should I decision-based questions9.txt\")"
      ]
    },
    {
      "cell_type": "code",
      "execution_count": null,
      "metadata": {
        "id": "Q4cWyWJRDlXD"
      },
      "outputs": [],
      "source": [
        "process_questions_file(\"Technology should I decision-based questions10.txt\")"
      ]
    },
    {
      "cell_type": "markdown",
      "metadata": {
        "id": "KJ2-RW2bD8lJ"
      },
      "source": [
        "**Open-AI Output**"
      ]
    },
    {
      "cell_type": "code",
      "execution_count": null,
      "metadata": {
        "id": "yljNECKvD2Aa"
      },
      "outputs": [],
      "source": [
        "!pip install openai==0.27.0"
      ]
    },
    {
      "cell_type": "code",
      "execution_count": null,
      "metadata": {
        "id": "2ZRvn1yRDlUV"
      },
      "outputs": [],
      "source": [
        "import openai\n",
        "\n",
        "openai.api_key = \"\"\n",
        "\n",
        "\n",
        "def analyze_decision_alternatives(question):\n",
        "    \"\"\"Extracts alternatives from a decision problem using OpenAI's GPT-3.5-turbo.\"\"\"\n",
        "    definition = \"\"\"\n",
        "    An alternative is an available course of action that the decision maker believes would lead to a different future, and is actually available and under the decision maker's control.\n",
        "\n",
        "    Key points about alternatives:\n",
        "    1. Alternatives arise from the frame the decision maker chooses. The chosen frame determines the alternatives that will be considered.\n",
        "    2. There need to be at least two distinct alternatives representing substantially different choices for there to be a real decision. If there is only one alternative, there is no choice to make.\n",
        "    3. Alternatives must represent choices that are actually available to the decision maker and under their control. For example, accepting a job offer is only an alternative if you have actually received the job offer.\n",
        "    4. While more alternatives can sometimes lead to a better choice, finding alternatives takes time and effort. There is a trade-off between considering more options versus efficiently making a choice.\n",
        "    5. Alternatives are one of the three essential elements of any decision, along with information and preferences. A decision cannot be made without clear alternatives.\n",
        "    \"\"\"\n",
        "\n",
        "    prompt = f\"\"\"\n",
        "    The user is trying to make the following decision: {question}.\n",
        "\n",
        "    Based on the following definition of alternatives:\n",
        "    {definition}\n",
        "\n",
        "    What distinct, actionable alternatives should the decision maker consider that are under their control and represent substantially different choices? Provide a list of alternatives along with a brief explanation of each.\n",
        "    \"\"\"\n",
        "    client = openai.OpenAI(api_key=openai.api_key)\n",
        "    response = client.chat.completions.create(\n",
        "        model=\"gpt-3.5-turbo\",\n",
        "        messages=[\n",
        "            {\"role\": \"system\", \"content\": \"You are a helpful assistant.\"},\n",
        "            {\"role\": \"user\", \"content\": prompt}\n",
        "        ],\n",
        "        max_tokens=1000,\n",
        "        n=1,\n",
        "        stop=None,\n",
        "        temperature=0.7,\n",
        "    )\n",
        "\n",
        "    return response.choices[0].message.content.strip()\n",
        "\n",
        "\n",
        "def process_questions_file(filename):\n",
        "    \"\"\"Reads a questions file, processes questions, and saves answers.\"\"\"\n",
        "    with open(filename, 'r') as file, open(\"Result.txt\", \"a\") as output_file:\n",
        "        questions = []\n",
        "        current_question = \"\"\n",
        "\n",
        "\n",
        "        for line in file:\n",
        "            if line.startswith(\"Question:\"):\n",
        "                if current_question:\n",
        "                    questions.append((current_question))\n",
        "                current_question = line[len(\"Question:\"):].strip()\n",
        "\n",
        "\n",
        "        if current_question:\n",
        "            questions.append((current_question))\n",
        "\n",
        "        for question in questions:\n",
        "            print(\"Question:\", question)\n",
        "\n",
        "\n",
        "            alternatives = analyze_decision_alternatives(question)\n",
        "\n",
        "            print(\"Alternatives:\")\n",
        "            print(alternatives)\n",
        "            print()\n",
        "\n",
        "\n",
        "            results_cohere = f\"Question: {question}\\nAlternatives:\\n{alternatives}\\n\\n\" # Updated\n",
        "            output_file.write(results_cohere)\n",
        "\n",
        "\n",
        "process_questions_file(\"Technology vs decision-based questions-openai.txt\")"
      ]
    },
    {
      "cell_type": "code",
      "execution_count": null,
      "metadata": {
        "id": "kWI5jm5kDlNp"
      },
      "outputs": [],
      "source": [
        "process_questions_file(\"Technology should I decision-based questions-openai.txt\")"
      ]
    }
  ],
  "metadata": {
    "colab": {
      "provenance": []
    },
    "kernelspec": {
      "display_name": "Python 3",
      "name": "python3"
    },
    "language_info": {
      "name": "python"
    }
  },
  "nbformat": 4,
  "nbformat_minor": 0
}
